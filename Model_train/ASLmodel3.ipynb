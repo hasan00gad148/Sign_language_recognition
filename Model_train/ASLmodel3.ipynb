{
  "cells": [
    {
      "cell_type": "code",
      "execution_count": null,
      "metadata": {
        "colab": {
          "base_uri": "https://localhost:8080/"
        },
        "id": "PQWWJGAoeoyO",
        "outputId": "72bfd5f1-9ab2-4aa7-b86b-f0d04200c829"
      },
      "outputs": [],
      "source": [
        "# !pip install patool\n",
        "!pip install mediapipe\n"
      ]
    },
    {
      "cell_type": "code",
      "execution_count": null,
      "metadata": {
        "id": "S90SBuqVd2lN"
      },
      "outputs": [],
      "source": [
        "import os\n",
        "import numpy as np\n",
        "from matplotlib import pyplot as plt\n",
        "import cv2\n",
        "import tensorflow as tf\n",
        "import tensorflow.keras.layers as tfl\n",
        "from tensorflow.keras.models import Sequential\n",
        "from tensorflow.keras.layers import LSTM, Dense, BatchNormalization, ReLU, Dropout, GRU, Conv2D, Conv1D, Flatten, Bidirectional, SimpleRNN\n",
        "from tensorflow.keras.utils import to_categorical\n",
        "import random \n",
        "from sklearn.model_selection import train_test_split\n",
        "from sklearn.utils import shuffle\n",
        "import mediapipe as mp\n",
        "# import pickle as pk\n",
        "from google.colab import drive\n",
        "from google.colab import files"
      ]
    },
    {
      "cell_type": "code",
      "execution_count": null,
      "metadata": {
        "colab": {
          "base_uri": "https://localhost:8080/"
        },
        "id": "FySGWtTcekwc",
        "outputId": "17992132-a528-4fd1-9450-0584fe2a6e13"
      },
      "outputs": [],
      "source": [
        "drive.mount(\"/content/drive\", force_remount=True)\n",
        "%cd drive/MyDrive/Colab Notebooks/"
      ]
    },
    {
      "cell_type": "code",
      "execution_count": null,
      "metadata": {
        "id": "N5KSV52feVCk"
      },
      "outputs": [],
      "source": [
        "# !pip install patool\n",
        "# import patoolib\n",
        "# patoolib.extract_archive(\"./traindata/all_cut.rar\", outdir=\"./traindata\")"
      ]
    },
    {
      "cell_type": "code",
      "execution_count": null,
      "metadata": {
        "id": "lnkdAmeTd2lT"
      },
      "outputs": [],
      "source": [
        "mp_holistic = mp.solutions.holistic # Holistic model\n",
        "mp_drawing = mp.solutions.drawing_utils # Drawing utilities"
      ]
    },
    {
      "cell_type": "code",
      "execution_count": null,
      "metadata": {
        "id": "Zv_JGDvxd2lU"
      },
      "outputs": [],
      "source": [
        "holistic = mp_holistic.Holistic(\n",
        "    static_image_mode=False,\n",
        "    model_complexity=1,\n",
        "    enable_segmentation=False,\n",
        "    refine_face_landmarks=False,\n",
        "    min_detection_confidence=0.2,\n",
        "    min_tracking_confidence=0.2)"
      ]
    },
    {
      "cell_type": "code",
      "execution_count": null,
      "metadata": {
        "id": "p5_71eH1d2lU"
      },
      "outputs": [],
      "source": [
        "def mediapipe_detection(image, model):\n",
        "    image = cv2.cvtColor(image, cv2.COLOR_BGR2RGB) # COLOR CONVERSION BGR 2 RGB\n",
        "    image.flags.writeable = False                  # Image is no longer writeable\n",
        "    results = model.process(image)                 # Make prediction\n",
        "    image.flags.writeable = True                   # Image is now writeable \n",
        "    return  results"
      ]
    },
    {
      "cell_type": "code",
      "execution_count": null,
      "metadata": {
        "id": "aHaK61Ljd2lV"
      },
      "outputs": [],
      "source": [
        "def normalize_zscore(pose, face, lh, rh):\n",
        "       \n",
        "\n",
        "    pose = (pose - pose.mean(axis=0))/(pose.std(axis=0) + 1e-7)\n",
        "    face = (face -  face.mean(axis=0))/(face.std(axis=0) + 1e-7)\n",
        "    lh = (lh - lh.mean(axis=0))/(lh.std(axis=0) + 1e-7)\n",
        "    rh = (rh - rh.mean(axis=0))/(rh.std(axis=0) + 1e-7)\n",
        "\n",
        "    return pose, face, lh, rh"
      ]
    },
    {
      "cell_type": "code",
      "execution_count": null,
      "metadata": {
        "id": "xg6MW6m0d2lW"
      },
      "outputs": [],
      "source": [
        "def extract_keypoints(results):\n",
        "\n",
        "    # pose = np.array([[res.x, res.y, res.z] for res in results.pose_landmarks.landmark]) if results.pose_landmarks else np.zeros((33,3))\n",
        "    # face = np.array([[res.x, res.y, res.z] for res in results.face_landmarks.landmark]) if results.face_landmarks else np.zeros((468,3))\n",
        "    # lh = np.array([[res.x, res.y, res.z] for res in results.left_hand_landmarks.landmark]) if results.left_hand_landmarks else np.zeros((21,3))\n",
        "    # rh = np.array([[res.x, res.y, res.z] for res in results.right_hand_landmarks.landmark]) if results.right_hand_landmarks else np.zeros((21,3))\n",
        "    pose = np.array([[res.x, res.y] for res in results.pose_landmarks.landmark]) if results.pose_landmarks else np.zeros((33,2))\n",
        "    face = np.array([[res.x, res.y] for res in results.face_landmarks.landmark]) if results.face_landmarks else np.zeros((468,2))\n",
        "    lh = np.array([[res.x, res.y] for res in results.left_hand_landmarks.landmark]) if results.left_hand_landmarks else np.zeros((21,2))\n",
        "    rh = np.array([[res.x, res.y] for res in results.right_hand_landmarks.landmark]) if results.right_hand_landmarks else np.zeros((21,2))\n",
        "\n",
        "    pose, face, lh, rh = normalize_zscore(pose, face, lh, rh)\n",
        "    face = face[:10,:]\n",
        "    \n",
        "    return np.concatenate([face.flatten(), pose.flatten(), lh.flatten(), rh.flatten()])\n",
        "      "
      ]
    },
    {
      "cell_type": "code",
      "execution_count": null,
      "metadata": {
        "id": "_ucnbCs_d2lX"
      },
      "outputs": [],
      "source": [
        "def draw_styled_landmarks(image, results):\n",
        "    # Draw face connections\n",
        "    mp_drawing.draw_landmarks(image, results.face_landmarks, mp_holistic.FACEMESH_TESSELATION, \n",
        "                             mp_drawing.DrawingSpec(color=(80,110,10), thickness=1, circle_radius=1), \n",
        "                             mp_drawing.DrawingSpec(color=(80,256,121), thickness=1, circle_radius=1)\n",
        "                             ) \n",
        "    # Draw pose connections\n",
        "    mp_drawing.draw_landmarks(image, results.pose_landmarks, mp_holistic.POSE_CONNECTIONS,\n",
        "                             mp_drawing.DrawingSpec(color=(80,22,10), thickness=2, circle_radius=4), \n",
        "                             mp_drawing.DrawingSpec(color=(80,44,121), thickness=2, circle_radius=2)\n",
        "                             ) \n",
        "    # Draw left hand connections\n",
        "    mp_drawing.draw_landmarks(image, results.left_hand_landmarks, mp_holistic.HAND_CONNECTIONS, \n",
        "                             mp_drawing.DrawingSpec(color=(121,22,76), thickness=2, circle_radius=4), \n",
        "                             mp_drawing.DrawingSpec(color=(121,44,250), thickness=2, circle_radius=2)\n",
        "                             ) \n",
        "    # Draw right hand connections  \n",
        "    mp_drawing.draw_landmarks(image, results.right_hand_landmarks, mp_holistic.HAND_CONNECTIONS, \n",
        "                             mp_drawing.DrawingSpec(color=(245,117,66), thickness=2, circle_radius=4), \n",
        "                             mp_drawing.DrawingSpec(color=(245,66,230), thickness=2, circle_radius=2)\n",
        "                             ) "
      ]
    },
    {
      "cell_type": "code",
      "execution_count": null,
      "metadata": {
        "id": "AA6r8PfPd2lk"
      },
      "outputs": [],
      "source": [
        "def videoProc2(path, c=1, skip=0, o=False):\n",
        "    \"###\"\n",
        "\n",
        "\n",
        "    cap = cv2.VideoCapture(path)\n",
        "    success = True\n",
        "    \n",
        "    framecount = 20\n",
        "\n",
        "    fnum = 0\n",
        "    v = []\n",
        "    \n",
        "    fpsCounter = 0\n",
        "\n",
        "\n",
        "    while success:     \n",
        "        success, frame = cap.read()\n",
        "        \n",
        "        if fpsCounter<=0:\n",
        "            fpsCounter=c\n",
        "        else:\n",
        "            fpsCounter-=1           \n",
        "            continue\n",
        "        if fnum == framecount:\n",
        "          break \n",
        "        \n",
        "        if success:  \n",
        "            # frame = cv2.resize(frame, (720,480), interpolation = cv2.INTER_AREA)\n",
        "            results = mediapipe_detection(frame, holistic)\n",
        "\n",
        "            eres = extract_keypoints(results)\n",
        "            tmp = np.reshape(eres, (1,-1))\n",
        "            v.append(tmp)\n",
        "\n",
        "            fnum += 1\n",
        "            if o:\n",
        "                draw_styled_landmarks(frame, results)\n",
        "                plt.imshow(cv2.cvtColor(frame, cv2.COLOR_BGR2RGB))\n",
        "                plt.show()\n",
        "\n",
        "\n",
        "    \n",
        "    v = np.reshape(v,(fnum,-1)) if fnum >0 else[]\n",
        "        \n",
        "    if fnum<framecount and fnum>0:\n",
        "        tmp = np.zeros((framecount-fnum,170))\n",
        "        v = np.concatenate((v, tmp), axis=0) \n",
        "\n",
        "\n",
        "    return v"
      ]
    },
    {
      "cell_type": "markdown",
      "metadata": {
        "id": "HqMeVlA4a0qv"
      },
      "source": [
        "***\n",
        "***\n",
        "***"
      ]
    },
    {
      "cell_type": "code",
      "execution_count": null,
      "metadata": {
        "id": "gv9tRo60d2lY"
      },
      "outputs": [],
      "source": [
        "path =\"./traindata/all\"\n",
        "file_list = os.listdir(path)\n",
        "files = file_list\n",
        "files.sort()"
      ]
    },
    {
      "cell_type": "code",
      "execution_count": null,
      "metadata": {
        "colab": {
          "base_uri": "https://localhost:8080/"
        },
        "id": "nZtcUPkMd2lY",
        "outputId": "b6f54daa-99cb-4c6c-b926-43f65006d988"
      },
      "outputs": [],
      "source": [
        "len(files)"
      ]
    },
    {
      "cell_type": "code",
      "execution_count": null,
      "metadata": {
        "colab": {
          "base_uri": "https://localhost:8080/"
        },
        "id": "w15lPLu1d2lZ",
        "outputId": "36326dbd-9509-48e3-e397-e7562463003d"
      },
      "outputs": [],
      "source": [
        "files = [path+\"/\"+f for f in files]# \n",
        "files[0],files[499]"
      ]
    },
    {
      "cell_type": "code",
      "execution_count": null,
      "metadata": {
        "colab": {
          "base_uri": "https://localhost:8080/",
          "height": 1000
        },
        "id": "6LgoMreUu142",
        "outputId": "9ea0f020-365a-4e6d-8bac-9eee2b7e4e31"
      },
      "outputs": [],
      "source": [
        "v= videoProc2(files[50],c=5,o=1)\n",
        "v.shape"
      ]
    },
    {
      "cell_type": "code",
      "execution_count": null,
      "metadata": {
        "colab": {
          "base_uri": "https://localhost:8080/"
        },
        "id": "kQfqeSdltguS",
        "outputId": "a7d9d9b3-342d-4290-9f72-3ea70f0304d9"
      },
      "outputs": [],
      "source": [
        "v[14].max(),v[14].min(),"
      ]
    },
    {
      "cell_type": "code",
      "execution_count": null,
      "metadata": {
        "colab": {
          "base_uri": "https://localhost:8080/"
        },
        "id": "Z4mWhWrRd2la",
        "outputId": "9ab6f808-955a-4272-a21a-ec54fcf66f31"
      },
      "outputs": [],
      "source": [
        "v[14].std(),v[14].mean()"
      ]
    },
    {
      "cell_type": "code",
      "execution_count": null,
      "metadata": {
        "id": "u8-gldS9rnnK"
      },
      "outputs": [],
      "source": [
        "sum = 0\n",
        "for i in range(0,3200,25):\n",
        "  v= videoProc2(files[i],c=5,o=0)\n",
        "  sum+=v.shape[0]\n",
        "  print(v.shape,int(i/50))\n"
      ]
    },
    {
      "cell_type": "markdown",
      "metadata": {
        "id": "BL1E-ar2IbcR"
      },
      "source": [
        "words={0:'Opaque',1:'Red',2:'Green',3:'Yellow',4:'Bright',5:'Light-blue\t',6:'Colors',7:'Pink',8:'Women',9:'Enemy',10:'Son',11:'Man',12:'Away',13:'Drawer',14:'Born',15:'Learn',\n",
        "       16:'Call',17:'Skimmer',18:'Bitter',19:'Sweet milk',20:'Milk',21:'Water',22:'Food',23:'Argentina',24:'Uruguay',25:'Country',26:'Last name',27:'Where',28:'Mock',\n",
        "       29:'Birthday',30:'Breakfast',31:'Photo',32:'Hungry',33:'Map',34:'Coin',35:'Music',36:'Ship',37:'None',38:'Name',39:'Patience',40:'Perfume',41:'Deaf',42:'Trap',\n",
        "       43:'Rice',44:'Barbecue',45:'Candy',46:'Chewing-gum',47:'Spaghetti',48:'Yogurt',49:'Accept',50:'Thanks',51:'Shut down',52:'Appear',53:'To land',54:'Catch',\n",
        "       55:'Help',56:'Dance',57:'Bathe',58:'Buy',59:'Copy',60:'Run',61:'Realize',62:'Give',63:'Find'}"
      ]
    },
    {
      "cell_type": "code",
      "execution_count": null,
      "metadata": {
        "id": "mBP630iKCl2l"
      },
      "outputs": [],
      "source": [
        "words2={0:'Opaque',1:'Red',2:'Green',3:'Yellow',4:'Bright',5:'Light-blue',6:'Colors',7:'Pink',8:'Women',9:'Enemy',10:'Son',11:'Man',12:'Away',13:'Drawer',14:'Born',15:'Learn',\n",
        "       16:'Call',17:'Skimmer',18:'Bitter',19:'Sweet milk',20:'Milk',21:'Water',22:'Food',23:'Argentina',24:'Uruguay',25:'Country',26:'Last name',27:'Where',\n",
        "       29:'Birthday',32:'Hungry',36:'Ship',37:'None',38:'Name',39:'Patience',40:'Perfume',41:'Deaf',45:'Candy',46:'Chewing-gum'\n",
        "       ,51:'Shut down',58:'Buy',61:'Realize',63:'Find'}"
      ]
    },
    {
      "cell_type": "code",
      "execution_count": null,
      "metadata": {
        "id": "XnnamV6jICEQ"
      },
      "outputs": [],
      "source": [
        "words2l={}"
      ]
    },
    {
      "cell_type": "code",
      "execution_count": null,
      "metadata": {
        "id": "Xtn--PYnH2Wx"
      },
      "outputs": [],
      "source": [
        "k=0\n",
        "for i,w in words2.items():\n",
        "  words2l[w]=k\n",
        "  k+=1"
      ]
    },
    {
      "cell_type": "code",
      "execution_count": null,
      "metadata": {
        "colab": {
          "base_uri": "https://localhost:8080/"
        },
        "id": "IvxcvhJiIQa_",
        "outputId": "f8009a9f-33ae-4665-f02d-a45a3bc9d30b"
      },
      "outputs": [],
      "source": [
        "words2l"
      ]
    },
    {
      "cell_type": "code",
      "execution_count": null,
      "metadata": {
        "colab": {
          "base_uri": "https://localhost:8080/"
        },
        "id": "DsEY286Wd2lc",
        "outputId": "6576599d-ca7e-40a1-c254-8c8f99d5d119"
      },
      "outputs": [],
      "source": [
        "l=0\n",
        "X_train=[]\n",
        "X_dev=[]\n",
        "y_train=[]\n",
        "y_dev=[]\n",
        "files_ = files[1600:3200]\n",
        "for f in files_:\n",
        "    v= videoProc2(f,c=5,o=0)\n",
        "\n",
        "\n",
        "    p = int(f.split('/')[-1].split('_')[1])\n",
        "    if p <10:\n",
        "      X_train.append(v)\n",
        "      label = int(f.split('/')[-1].split('_')[0])-1\n",
        "      y_train.append(label)\n",
        "    else:\n",
        "      X_dev.append(v)\n",
        "      label = int(f.split('/')[-1].split('_')[0])-1\n",
        "      y_dev.append(label)\n",
        "\n",
        "\n",
        "    print(p, l)\n",
        "    l+=1\n",
        "\n",
        "    "
      ]
    },
    {
      "cell_type": "code",
      "execution_count": null,
      "metadata": {
        "id": "RGTAoC0Ad2le"
      },
      "outputs": [],
      "source": [
        "X_train = np.array(X_train)\n",
        "y_train = np.array(y_train)\n",
        "X_dev = np.array(X_dev)\n",
        "y_dev = np.array(y_dev)"
      ]
    },
    {
      "cell_type": "code",
      "execution_count": null,
      "metadata": {
        "colab": {
          "base_uri": "https://localhost:8080/"
        },
        "id": "qcnBGDfAd2le",
        "outputId": "a659e8e1-83f4-4202-eee8-1ee85ac5dec6"
      },
      "outputs": [],
      "source": [
        "X_train.shape,y_train.shape,X_dev.shape,y_dev.shape"
      ]
    },
    {
      "cell_type": "code",
      "execution_count": null,
      "metadata": {
        "id": "yz0ntSFOd2le"
      },
      "outputs": [],
      "source": [
        "np.save(\"./X_train_5.npy\",X_train)\n",
        "np.save(\"./y_train_5.npy\",y_train)\n",
        "np.save(\"./X_dev_5.npy\",X_dev)\n",
        "np.save(\"./y_dev_5.npy\",y_dev)"
      ]
    },
    {
      "cell_type": "code",
      "execution_count": null,
      "metadata": {
        "id": "C3NpaunGK5lc"
      },
      "outputs": [],
      "source": [
        "del files\n",
        "del file_list"
      ]
    },
    {
      "cell_type": "markdown",
      "metadata": {
        "id": "G2JySTKVa81H"
      },
      "source": [
        "***\n",
        "***\n",
        "***"
      ]
    },
    {
      "cell_type": "code",
      "execution_count": null,
      "metadata": {
        "id": "u-nBBuuunNaK"
      },
      "outputs": [],
      "source": [
        "# X_train = np.load(\"./traindata/X_train_1.npy\")\n",
        "# y_train = np.load(\"./traindata/y_train_1.npy\")\n",
        "# X_dev = np.load(\"./traindata/X_dev_1.npy\")\n",
        "# y_dev = np.load(\"./traindata/y_dev_1.npy\")\n",
        "X_train = np.load(\"./X_train_4.npy\")\n",
        "y_train = np.load(\"./y_train_4.npy\")\n",
        "X_dev = np.load(\"./X_dev_4.npy\")\n",
        "y_dev = np.load(\"./y_dev_4.npy\")"
      ]
    },
    {
      "cell_type": "code",
      "execution_count": null,
      "metadata": {
        "id": "sQy_bXBzWvMm"
      },
      "outputs": [],
      "source": [
        "# X_train2 = np.load(\"./traindata/X_train_2.npy\")\n",
        "# y_train2 = np.load(\"./traindata/y_train_2.npy\")\n",
        "# X_dev2 = np.load(\"./traindata/X_dev_2.npy\")\n",
        "# y_dev2 = np.load(\"./traindata/y_dev_2.npy\")\n",
        "X_train2 = np.load(\"./X_train_5.npy\")\n",
        "y_train2 = np.load(\"./y_train_5.npy\")\n",
        "X_dev2 = np.load(\"./X_dev_5.npy\")\n",
        "y_dev2 = np.load(\"./y_dev_5.npy\")"
      ]
    },
    {
      "cell_type": "code",
      "execution_count": null,
      "metadata": {
        "id": "ki6VDzkZW2bz"
      },
      "outputs": [],
      "source": [
        "X_train = np.concatenate([X_train,X_train2],axis=0)\n",
        "y_train = np.concatenate([y_train,y_train2],axis=0)\n",
        "X_dev = np.concatenate([X_dev,X_dev2],axis=0)\n",
        "y_dev = np.concatenate([y_dev,y_dev2],axis=0)\n"
      ]
    },
    {
      "cell_type": "code",
      "execution_count": null,
      "metadata": {
        "id": "yxRcNtJ3Xb6b"
      },
      "outputs": [],
      "source": [
        "del X_train2\n",
        "del y_train2\n",
        "del X_dev2\n",
        "del y_dev2"
      ]
    },
    {
      "cell_type": "code",
      "execution_count": null,
      "metadata": {
        "id": "puMjib1dLove"
      },
      "outputs": [],
      "source": []
    },
    {
      "cell_type": "code",
      "execution_count": null,
      "metadata": {
        "id": "p17IBieLNZPr"
      },
      "outputs": [],
      "source": [
        "X_train, y_train = shuffle(X_train, y_train, random_state=13)\n",
        "\n",
        "X_dev, y_dev = shuffle(X_dev,  y_dev, random_state=13)"
      ]
    },
    {
      "cell_type": "code",
      "execution_count": null,
      "metadata": {
        "id": "3ZTZrpOyAuDS"
      },
      "outputs": [],
      "source": [
        "m=X_train.mean()\n",
        "s=(X_train.std()+1e-7)"
      ]
    },
    {
      "cell_type": "code",
      "execution_count": null,
      "metadata": {
        "colab": {
          "base_uri": "https://localhost:8080/"
        },
        "id": "VGThAB2ExNYl",
        "outputId": "9401d81c-48dd-4398-a717-0cfcf9dee8e4"
      },
      "outputs": [],
      "source": [
        "m,s"
      ]
    },
    {
      "cell_type": "code",
      "execution_count": null,
      "metadata": {
        "id": "FsJSK_K5-_b3"
      },
      "outputs": [],
      "source": [
        "# X_train = ((X_train - m)/ s)\n",
        "# X_dev = (X_dev-m)/s"
      ]
    },
    {
      "cell_type": "code",
      "execution_count": null,
      "metadata": {
        "id": "GfK5cFhlV1j5"
      },
      "outputs": [],
      "source": [
        "# X_train = X_train[:,:,np.newaxis]\n",
        "# X_dev = X_dev[:,:,np.newaxis]"
      ]
    },
    {
      "cell_type": "code",
      "execution_count": null,
      "metadata": {
        "colab": {
          "base_uri": "https://localhost:8080/"
        },
        "id": "DETtElvYs6hI",
        "outputId": "dffd8092-abaf-44bf-c70c-13833cb3d912"
      },
      "outputs": [],
      "source": [
        "X_train[13].mean(),X_train[13].std(),X_train.shape"
      ]
    },
    {
      "cell_type": "code",
      "execution_count": null,
      "metadata": {
        "colab": {
          "base_uri": "https://localhost:8080/"
        },
        "id": "sfAVTKlrd2lg",
        "outputId": "4c720009-e97f-4adb-9ac0-d547fc21fceb"
      },
      "outputs": [],
      "source": [
        "X_train[3].min(),X_train[3].max(),X_train[3].shape"
      ]
    },
    {
      "cell_type": "code",
      "execution_count": null,
      "metadata": {
        "colab": {
          "base_uri": "https://localhost:8080/"
        },
        "id": "8HNPMiUud2lg",
        "outputId": "a820c515-5bfc-4dee-f91c-fd05ff8936d1"
      },
      "outputs": [],
      "source": [
        "y_train[0:10],y_train.min(),y_train.max(),y_train.shape"
      ]
    },
    {
      "cell_type": "code",
      "execution_count": null,
      "metadata": {
        "id": "b7q9lb73d2lh"
      },
      "outputs": [],
      "source": [
        "\n",
        "\n",
        "# Bidirectional(GRU(128, return_sequences=True, activation='tanh')),\n",
        "# BatchNormalization(axis=-1,center=True,scale=True,),\n",
        "# ReLU(), \n",
        "# LSTM\n",
        "# tf.keras.layers.SimpleRNN(256, return_sequences=True, activation=\"relu\",),\n",
        "\n",
        "\n",
        "# Dense(128, activation='relu',kernel_regularizer=tf.keras.regularizers.L1L2(0.01,0.05)),  \n",
        "# # Dense(64, activation='relu',kernel_regularizer=tf.keras.regularizers.L1L2(0.01,0.05)),     recurrent_regularizer=tf.keras.regularizers.L1L2(1e-4,1e-2)\n",
        "# BatchNormalization(axis=-1,center=True,scale=True,), recurrent_regularizer=tf.keras.regularizers.L1L2(1e-4,1e-4),\n",
        "\n",
        "\n",
        "model_lstm_1 = Sequential([\n",
        "tf.keras.Input(shape=(20,170),),\n",
        "\n",
        "\n",
        "GRU(64, return_sequences=False, activation=\"relu\",),\n",
        "BatchNormalization(axis=-1,center=True,scale=True,),\n",
        "Dense(128, activation='relu',kernel_regularizer=tf.keras.regularizers.L1L2(0.01,0.01)),\n",
        "BatchNormalization(axis=-1,center=True,scale=True,),\n",
        "Dropout(0.4),\n",
        "\n",
        "\n",
        "Dense(64, activation='softmax')\n",
        "])\n"
      ]
    },
    {
      "cell_type": "code",
      "execution_count": null,
      "metadata": {
        "colab": {
          "base_uri": "https://localhost:8080/"
        },
        "id": "tkM404Fad2lh",
        "outputId": "f178f42c-2279-4af9-e701-10a2e805765a"
      },
      "outputs": [],
      "source": [
        "\n",
        "model_lstm_1.summary()"
      ]
    },
    {
      "cell_type": "code",
      "execution_count": null,
      "metadata": {
        "id": "FlWe8UFFfyQx"
      },
      "outputs": [],
      "source": [
        "callback1 = tf.keras.callbacks.EarlyStopping(monitor=\"val_loss\", restore_best_weights=True, patience=20,mode=\"min\")\n",
        "callback2 = tf.keras.callbacks.EarlyStopping(monitor=\"val_sparse_categorical_accuracy\", restore_best_weights=True,mode=\"max\",patience=20)\n",
        "\n"
      ]
    },
    {
      "cell_type": "code",
      "execution_count": null,
      "metadata": {
        "id": "H2K4MECAd2lh"
      },
      "outputs": [],
      "source": [
        "model_lstm_1.compile(tf.keras.optimizers.Adam(learning_rate=1e-3,beta_1=0.9,beta_2=0.999,epsilon=1e-07,)\n",
        "        ,loss=tf.keras.losses.SparseCategoricalCrossentropy()\n",
        "            ,metrics=[\"sparse_categorical_accuracy\"])"
      ]
    },
    {
      "cell_type": "code",
      "execution_count": null,
      "metadata": {
        "colab": {
          "base_uri": "https://localhost:8080/"
        },
        "id": "XrJXaEhld2li",
        "outputId": "6fd4aeb3-bfbd-4bed-d3be-b60e2ccdb0d4"
      },
      "outputs": [],
      "source": [
        "model_lstm_1.fit(X_train, y_train, epochs=1000, batch_size=128,callbacks=[callback2], validation_data=(X_dev, y_dev))#batch_size=64 ,#validation_data=(X_dev, y_dev)"
      ]
    },
    {
      "cell_type": "code",
      "execution_count": null,
      "metadata": {
        "colab": {
          "base_uri": "https://localhost:8080/"
        },
        "id": "pn7BhRLnd2lj",
        "outputId": "7883ba19-4e86-4270-e9bf-54c58b38ff6b"
      },
      "outputs": [],
      "source": [
        "model_lstm_1.evaluate(X_train, y_train)"
      ]
    },
    {
      "cell_type": "code",
      "execution_count": null,
      "metadata": {
        "id": "8In9OzFfd2lj"
      },
      "outputs": [],
      "source": [
        "model_lstm_1.evaluate(X_dev, y_dev)"
      ]
    },
    {
      "cell_type": "code",
      "execution_count": null,
      "metadata": {
        "colab": {
          "base_uri": "https://localhost:8080/"
        },
        "id": "7XtJXHhkd2lk",
        "outputId": "9a234b7f-4a67-4fc0-9b23-e5dd15471955"
      },
      "outputs": [],
      "source": [
        "model_lstm_1.save(\"./modelArgantine/final/v8_64_5.4\")"
      ]
    },
    {
      "cell_type": "code",
      "execution_count": null,
      "metadata": {
        "id": "PxEiRuJBfEyg"
      },
      "outputs": [],
      "source": [
        "path =\"./testdata/\"\n",
        "file_list = os.listdir(path)\n",
        "file_list.sort()\n",
        "\n"
      ]
    },
    {
      "cell_type": "code",
      "execution_count": null,
      "metadata": {
        "colab": {
          "base_uri": "https://localhost:8080/"
        },
        "id": "poKw8zps3CXJ",
        "outputId": "ea39bf08-beb1-42f9-bad0-cab160620a91"
      },
      "outputs": [],
      "source": [
        "test1 = {}\n",
        "for f in file_list:\n",
        "  v=videoProc2(path+f,c=4,o=0)\n",
        "  test1[f]=v\n",
        "  print(f,v.shape)\n"
      ]
    },
    {
      "cell_type": "code",
      "execution_count": null,
      "metadata": {
        "colab": {
          "base_uri": "https://localhost:8080/"
        },
        "id": "ERjJ49yMZTR1",
        "outputId": "5c57964d-e5ba-4065-d9a8-91c8cdc479bd"
      },
      "outputs": [],
      "source": [
        "test2 = {}\n",
        "for f in file_list: \n",
        "  v=videoProc2(path+f,c=2,o=0)\n",
        "  test2[f]=v\n",
        "  print(f,v.shape)"
      ]
    },
    {
      "cell_type": "code",
      "execution_count": null,
      "metadata": {
        "colab": {
          "base_uri": "https://localhost:8080/"
        },
        "id": "5cbtlAUJB2Os",
        "outputId": "64faa89d-d503-4f82-9b82-e70ee2675d30"
      },
      "outputs": [],
      "source": [
        "test3 = {}\n",
        "for f in file_list: \n",
        "  v=videoProc2(path+f,c=3,o=0)\n",
        "  test3[f]=v\n",
        "  print(f,v.shape)"
      ]
    },
    {
      "cell_type": "code",
      "execution_count": null,
      "metadata": {
        "id": "j3OWlu9ekuSs"
      },
      "outputs": [],
      "source": [
        "# reconstructed_model = tf.keras.models.load_model(\"./modelArgantine/v8.6\")"
      ]
    },
    {
      "cell_type": "code",
      "execution_count": null,
      "metadata": {
        "id": "4dKlWokk2Aef"
      },
      "outputs": [],
      "source": [
        "# reconstructed_model.summary()"
      ]
    },
    {
      "cell_type": "code",
      "execution_count": null,
      "metadata": {
        "id": "bqmHWWiXliU0"
      },
      "outputs": [],
      "source": [
        "for l,v in test2.items():#model_lstm_1  # v  = (v-m)/s\n",
        "  # v  = (v-v.mean())/(v.std()+1e-7)\n",
        "  p = model_lstm_1.predict(np.reshape(v, (1,20,170)))\n",
        "  pp =np.argmax(p)\n",
        "  print(l,pp,p[:,pp],v[14].max())"
      ]
    },
    {
      "cell_type": "code",
      "execution_count": null,
      "metadata": {
        "id": "44_E6Mdl3TeM"
      },
      "outputs": [],
      "source": [
        "for l,v in test3.items():#model_lstm_1  # v  = (v-m)/s\n",
        "  # v  = (v-m)/s\n",
        "  p = model_lstm_1.predict(np.reshape(v, (1,20,170)))\n",
        "  pp =np.argmax(p)\n",
        "  print(l,pp,p[:,pp],v[14].max())"
      ]
    },
    {
      "cell_type": "code",
      "execution_count": null,
      "metadata": {
        "id": "EXG9E_oOqsj7"
      },
      "outputs": [],
      "source": [
        "for l,v in test1.items():#model_lstm_1  # v  = (v-m)/s\n",
        "  p = model_lstm_1.predict(np.reshape(v, (1,20,170)))\n",
        "  pp =np.argmax(p)\n",
        "  print(l,pp,p[:,pp],v.std())"
      ]
    }
  ],
  "metadata": {
    "colab": {
      "provenance": []
    },
    "gpuClass": "standard",
    "kernelspec": {
      "display_name": "env",
      "language": "python",
      "name": "python3"
    },
    "language_info": {
      "codemirror_mode": {
        "name": "ipython",
        "version": 3
      },
      "file_extension": ".py",
      "mimetype": "text/x-python",
      "name": "python",
      "nbconvert_exporter": "python",
      "pygments_lexer": "ipython3",
      "version": "3.10.9"
    },
    "vscode": {
      "interpreter": {
        "hash": "a8e62510b8e8983f7396e073327258ed7f98a07d0a71789f266ad6c411666256"
      }
    }
  },
  "nbformat": 4,
  "nbformat_minor": 0
}

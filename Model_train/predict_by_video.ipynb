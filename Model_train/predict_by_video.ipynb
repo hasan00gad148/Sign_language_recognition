{
 "cells": [
  {
   "cell_type": "code",
   "execution_count": null,
   "id": "6bad3d2a",
   "metadata": {},
   "outputs": [],
   "source": [
    "import os\n",
    "import shutil\n",
    "import numpy as np\n",
    "from matplotlib import pyplot as plt\n",
    "import cv2\n",
    "import tensorflow as tf\n",
    "import tensorflow.keras.layers as tfl\n",
    "from tensorflow.keras.models import Sequential\n",
    "from tensorflow.keras.layers import LSTM, Dense, BatchNormalization, ReLU, Dropout, GRU, ConvLSTM2D, Conv3D, Flatten\n",
    "from tensorflow.keras.utils import to_categorical\n",
    "import mediapipe as mp\n",
    "import pickle as pk\n",
    "import glob\n",
    "from collections import Counter\n"
   ]
  },
  {
   "cell_type": "code",
   "execution_count": null,
   "id": "5a9d91e2",
   "metadata": {},
   "outputs": [],
   "source": [
    "mp_holistic = mp.solutions.holistic # Holistic model\n",
    "mp_drawing = mp.solutions.drawing_utils # Drawing utilities"
   ]
  },
  {
   "cell_type": "code",
   "execution_count": null,
   "id": "1ed395a1",
   "metadata": {},
   "outputs": [],
   "source": [
    "def mediapipe_detection(image, model):\n",
    "    image = cv2.cvtColor(image, cv2.COLOR_BGR2RGB) # COLOR CONVERSION BGR 2 RGB\n",
    "    image.flags.writeable = False                  # Image is no longer writeable\n",
    "    results = model.process(image)                 # Make prediction\n",
    "    image.flags.writeable = True                   # Image is now writeable \n",
    "    image = cv2.cvtColor(image, cv2.COLOR_RGB2BGR) # COLOR COVERSION RGB 2 BGR\n",
    "    return  image,results"
   ]
  },
  {
   "cell_type": "code",
   "execution_count": null,
   "id": "c95d75dd",
   "metadata": {},
   "outputs": [],
   "source": [
    "def normalize_zscore(pose, face, lh, rh):\n",
    "       \n",
    "    m = pose.mean(axis=0)\n",
    "    std  = pose.std(axis=0) + 1e-7\n",
    "    pose = (pose - m)/std\n",
    "    \n",
    "    # print(pose.shape,m.shape,std.shape)\n",
    "    \n",
    "    m = face.mean(axis=0)\n",
    "    std  = face.std(axis=0) + 1e-7\n",
    "    face = (face - m)/std\n",
    "    \n",
    "    m = lh.mean(axis=0)\n",
    "    std  = lh.std(axis=0) + 1e-7\n",
    "    lh = (lh - m)/std\n",
    "    \n",
    "    m = rh.mean(axis=0)\n",
    "    std  = rh.std(axis=0) + 1e-7\n",
    "    rh = (rh - m)/std\n",
    "    \n",
    "    return pose, face, lh, rh"
   ]
  },
  {
   "cell_type": "code",
   "execution_count": null,
   "id": "ca6f0d75",
   "metadata": {},
   "outputs": [],
   "source": [
    "def extract_keypoints(results):\n",
    "    pose = np.array([[res.x, res.y,res.z] for res in results.pose_landmarks.landmark]) if results.pose_landmarks else np.zeros(33*3)\n",
    "    face = np.array([[res.x, res.y,res.z] for res in results.face_landmarks.landmark]) if results.face_landmarks else np.zeros(468*3)\n",
    "    lh = np.array([[res.x, res.y,res.z] for res in results.left_hand_landmarks.landmark]) if results.left_hand_landmarks else np.zeros(21*3)\n",
    "    rh = np.array([[res.x, res.y,res.z] for res in results.right_hand_landmarks.landmark]) if results.right_hand_landmarks else np.zeros(21*3)\n",
    "\n",
    "    pose, face, lh, rh = normalize_zscore(pose, face, lh, rh)\n",
    "\n",
    "    return np.concatenate([pose.flatten(), face.flatten(), lh.flatten(), rh.flatten()])"
   ]
  },
  {
   "cell_type": "code",
   "execution_count": null,
   "id": "ee05f451",
   "metadata": {},
   "outputs": [],
   "source": [
    "def draw_styled_landmarks(image, results):\n",
    "    # Draw face connections\n",
    "    mp_drawing.draw_landmarks(image, results.face_landmarks, mp_holistic.FACEMESH_TESSELATION, \n",
    "                             mp_drawing.DrawingSpec(color=(80,110,10), thickness=1, circle_radius=1), \n",
    "                             mp_drawing.DrawingSpec(color=(80,256,121), thickness=1, circle_radius=1)\n",
    "                             ) \n",
    "    # Draw pose connections\n",
    "    mp_drawing.draw_landmarks(image, results.pose_landmarks, mp_holistic.POSE_CONNECTIONS,\n",
    "                             mp_drawing.DrawingSpec(color=(80,22,10), thickness=2, circle_radius=4), \n",
    "                             mp_drawing.DrawingSpec(color=(80,44,121), thickness=2, circle_radius=2)\n",
    "                             ) \n",
    "    # Draw left hand connections\n",
    "    mp_drawing.draw_landmarks(image, results.left_hand_landmarks, mp_holistic.HAND_CONNECTIONS, \n",
    "                             mp_drawing.DrawingSpec(color=(121,22,76), thickness=2, circle_radius=4), \n",
    "                             mp_drawing.DrawingSpec(color=(121,44,250), thickness=2, circle_radius=2)\n",
    "                             ) \n",
    "    # Draw right hand connections  \n",
    "    mp_drawing.draw_landmarks(image, results.right_hand_landmarks, mp_holistic.HAND_CONNECTIONS, \n",
    "                             mp_drawing.DrawingSpec(color=(245,117,66), thickness=2, circle_radius=4), \n",
    "                             mp_drawing.DrawingSpec(color=(245,66,230), thickness=2, circle_radius=2)\n",
    "                             ) "
   ]
  },
  {
   "cell_type": "code",
   "execution_count": null,
   "id": "a5ed4a79",
   "metadata": {},
   "outputs": [],
   "source": [
    "holistic = mp_holistic.Holistic(min_detection_confidence=0.25, min_tracking_confidence=0.25) \n"
   ]
  },
  {
   "cell_type": "code",
   "execution_count": null,
   "id": "e320de8e",
   "metadata": {},
   "outputs": [],
   "source": [
    "PATH=\"C:/Users/Abdelrahman Rashad/American_Sign_Language_Recognition-main\"\n",
    "def createFolders(videoName):\n",
    "    if not os.path.exists(PATH+\"/videos/\"+videoName):\n",
    "        os.makedirs(os.path.join(PATH, \"videos\",videoName))\n",
    "        os.makedirs(os.path.join(PATH, \"videosFiltered\",videoName))\n",
    "    "
   ]
  },
  {
   "cell_type": "code",
   "execution_count": null,
   "id": "6ca5f208",
   "metadata": {},
   "outputs": [],
   "source": [
    "def extractKeyPointsFromVideo(videoName,typeofvideo='word'):\n",
    "    if typeofvideo=='word':\n",
    "        videoPath=PATH+\"/all/\"+videoName\n",
    "    else:\n",
    "        videoPath=PATH+\"/MyTestVideos/\"+videoName\n",
    "\n",
    "    cap=cv2.VideoCapture(videoPath)\n",
    "    count=0\n",
    "    with mp_holistic.Holistic(min_detection_confidence=0.5,min_tracking_confidence=0.5) as holistic:\n",
    "        while True:\n",
    "            success,frame=cap.read()\n",
    "            print(count)\n",
    "            if success:\n",
    "                frame = cv2.resize(frame, (1920,1080), interpolation = cv2.INTER_AREA)\n",
    "                image,results = mediapipe_detection(frame, holistic)\n",
    "                eres = extract_keypoints(results)\n",
    "                draw_styled_landmarks(frame, results)\n",
    "                plt.imshow(cv2.cvtColor(frame, cv2.COLOR_BGR2RGB))\n",
    "                plt.show()\n",
    "                npy_path = os.path.join(PATH, \"videos\",videoName,str(count))\n",
    "                count+=1\n",
    "                np.save(npy_path, eres)\n",
    "            else:\n",
    "                break\n",
    "\n",
    "        cap.release()\n",
    "        cv2.destroyAllWindows()\n",
    "\n",
    "        "
   ]
  },
  {
   "cell_type": "code",
   "execution_count": null,
   "id": "22ed5244",
   "metadata": {},
   "outputs": [],
   "source": [
    "sequence_length = 35\n",
    "\n",
    "def filterKeyPointsUsingMotionDetection(videoName):\n",
    "    initialState=None\n",
    "    actionMagnitude=[]\n",
    "    videoPath=PATH+\"/all/\"+videoName\n",
    "    cap=cv2.VideoCapture(videoPath)\n",
    "    while True:\n",
    "        success,frame=cap.read()\n",
    "        motion=0\n",
    "        if success:\n",
    "\n",
    "            gray_frame = cv2.cvtColor(frame, cv2.COLOR_BGR2GRAY)\n",
    "            gaussian_frame=cv2.GaussianBlur(gray_frame,(21,21),0)\n",
    "            if initialState is None:\n",
    "                initialState=gaussian_frame\n",
    "                continue\n",
    "            diff_frame=cv2.absdiff(initialState,gaussian_frame)\n",
    "            actionMagnitude.append(diff_frame.sum())\n",
    "            initialState=gaussian_frame\n",
    "        else:\n",
    "            break\n",
    "    cap.release()\n",
    "    cv2.destroyAllWindows()\n",
    "    \n",
    "    startIndex=0\n",
    "    maxMagnitude=0\n",
    "\n",
    "    for i in range(0,len(actionMagnitude)-sequence_length):\n",
    "        sumActionMagnitude=sum(actionMagnitude[i:i+sequence_length])\n",
    "        if(sumActionMagnitude>maxMagnitude):\n",
    "            startIndex=i\n",
    "            maxMagnitude=sumActionMagnitude\n",
    "    print(\"Start Index = \"+str(startIndex))\n",
    "    print(\"Max Magnitude = \"+str(maxMagnitude))\n",
    "    for i in range(startIndex,startIndex+sequence_length):\n",
    "        source = \"{}/videos/{}/{}.npy\".format(PATH,videoName,i)\n",
    "        destination = \"{}/videosFiltered/{}/{}.npy\".format(PATH,videoName,str(i-startIndex)) #renamed to be all starting from 0\n",
    "        shutil.copyfile(source, destination)\n",
    "    "
   ]
  },
  {
   "cell_type": "code",
   "execution_count": null,
   "id": "d50a3576",
   "metadata": {},
   "outputs": [],
   "source": [
    "def loadKeyPoints(videoName,typeofvideo='word'): \n",
    "    allKeyPointsForOneVideo=[]\n",
    "    if typeofvideo=='word':\n",
    "        for frame_num in range(sequence_length):\n",
    "            res = np.load(os.path.join(PATH, \"videosFiltered\", videoName, \"{}.npy\".format(frame_num)))\n",
    "            allKeyPointsForOneVideo.append(res)\n",
    "        allKeyPointsForOneVideo=np.expand_dims(np.array(allKeyPointsForOneVideo), axis=0)\n",
    "    else:\n",
    "        allfiles=glob.glob(\"C:/Users/Abdelrahman Rashad/American_Sign_Language_Recognition-main/videos/{}/*.npy\".format(videoName))\n",
    "        for frame_num in range(len(allfiles)):\n",
    "            res = np.load(os.path.join(PATH, \"videos\", videoName, \"{}.npy\".format(frame_num)))\n",
    "            allKeyPointsForOneVideo.append(res)\n",
    "        allKeyPointsForOneVideo=np.expand_dims(np.array(allKeyPointsForOneVideo), axis=0)\n",
    "    return allKeyPointsForOneVideo"
   ]
  },
  {
   "cell_type": "code",
   "execution_count": null,
   "id": "1cf43730",
   "metadata": {},
   "outputs": [],
   "source": [
    "words=['Opaque','Red','Green','Yellow','Bright','Light-blue\t','Colors','Pink','Women','Enemy','Son','Man','Away','Drawer','Born','Learn','Call','Skimmer','Bitter','Sweet milk','Milk','Water','Food','Argentina','Uruguay','Country','Last name','Where','Mock','Birthday','Breakfast','Photo','Hungry','Map','Coin','Music','Ship','None','Name','Patience','Perfume','Deaf','Trap','Rice','Barbecue','Candy','Chewing-gum','Spaghetti','Yogurt','Accept','Thanks','Shut down','Appear','To land','Catch','Help','Dance','Bathe','Buy','Copy','Run','Realize','Give','Find']\n",
    "words=np.array(words)\n",
    "len(words)"
   ]
  },
  {
   "cell_type": "code",
   "execution_count": null,
   "id": "dbe03023",
   "metadata": {},
   "outputs": [],
   "source": [
    "reconstructed_model = tf.keras.models.load_model(\"/Users/Abdelrahman Rashad/American_Sign_Language_Recognition-main/modelAsl/v2\")"
   ]
  },
  {
   "cell_type": "markdown",
   "id": "fa6b4c85",
   "metadata": {},
   "source": [
    "# Word Video"
   ]
  },
  {
   "cell_type": "code",
   "execution_count": null,
   "id": "9ecf539d",
   "metadata": {},
   "outputs": [],
   "source": [
    "videoName=\"001_003_005.mp4\"\n",
    "createFolders(videoName)\n",
    "extractKeyPointsFromVideo(videoName,typeofvideo=\"word\")\n",
    "filterKeyPointsUsingMotionDetection(videoName)\n",
    "allKeyPointsForOneVideo=loadKeyPoints(videoName,typeofvideo=\"word\") \n",
    "p = reconstructed_model.predict(allKeyPointsForOneVideo)"
   ]
  },
  {
   "cell_type": "code",
   "execution_count": null,
   "id": "cb283c9d",
   "metadata": {},
   "outputs": [],
   "source": [
    "print(words[np.argmax(p)])"
   ]
  },
  {
   "cell_type": "markdown",
   "id": "9d04722a",
   "metadata": {},
   "source": [
    "# Sentence Video"
   ]
  },
  {
   "cell_type": "code",
   "execution_count": null,
   "id": "d6b0cb3c",
   "metadata": {},
   "outputs": [],
   "source": [
    "result=[]\n",
    "videoName=\"RedGreenYello.mp4\"\n",
    "# extractKeyPointsFromVideo(videoName,typeofvideo=\"sentence\")\n",
    "allKeyPointsForOneVideo=loadKeyPoints(videoName,typeofvideo='sentence')\n",
    "for i in range(0,allKeyPointsForOneVideo.shape[1]-sequence_length):\n",
    "    p = reconstructed_model.predict(allKeyPointsForOneVideo[:,i:i+sequence_length,:])\n",
    "    result.append(words[np.argmax(p)]) "
   ]
  },
  {
   "cell_type": "code",
   "execution_count": null,
   "id": "6551dd62",
   "metadata": {},
   "outputs": [],
   "source": [
    "Counter(result)"
   ]
  },
  {
   "cell_type": "code",
   "execution_count": null,
   "id": "77f65800",
   "metadata": {},
   "outputs": [],
   "source": [
    "sentence=[]\n",
    "for i in Counter(result):\n",
    "    if Counter(result)[i]>35:\n",
    "        sentence.append(i)\n",
    "\n",
    "FinalResult=' '.join(sentence)\n",
    "FinalResult"
   ]
  },
  {
   "cell_type": "markdown",
   "id": "228fc766",
   "metadata": {},
   "source": [
    "# Live"
   ]
  },
  {
   "cell_type": "code",
   "execution_count": null,
   "id": "ab2f96bc",
   "metadata": {},
   "outputs": [],
   "source": [
    "sequence=[]\n",
    "sentence=[]\n",
    "threshold=0.96\n",
    "cap = cv2.VideoCapture(0)\n",
    "with mp_holistic.Holistic(min_detection_confidence=0.2,min_tracking_confidence=0.2) as holistic:\n",
    "    \n",
    "      while cap.isOpened():\n",
    "\n",
    "        ret,frame=cap.read()\n",
    "\n",
    "        image,results=mediapipe_detection(frame,holistic)\n",
    "\n",
    "        draw_styled_landmarks(image,results)\n",
    "        keypoints = extract_keypoints(results)\n",
    "        sequence.append(keypoints)\n",
    "        sequence=sequence[-35:]\n",
    "        \n",
    "        if len(sequence)==35:\n",
    "            res=reconstructed_model.predict(np.expand_dims(sequence,axis=0))[0]\n",
    "            print(words[np.argmax(res)])\n",
    "            print(res[np.argmax(res)])\n",
    "            if res[np.argmax(res)]>threshold:\n",
    "                if len(sentence)>0:\n",
    "                    if words[np.argmax(res)]!= sentence[-1]:\n",
    "                        sentence.append(words[np.argmax(res)])\n",
    "                else:\n",
    "                    sentence.append(words[np.argmax(res)])\n",
    "                    \n",
    "            if len(sentence)>5:\n",
    "                sentence=sentence[-5:]\n",
    "        cv2.rectangle(image, (0,0), (640, 40), (245, 117, 16), -1)\n",
    "        cv2.putText(image, ' '.join(sentence), (3,30),cv2.FONT_HERSHEY_SIMPLEX, 1, (255, 255, 255), 2, cv2.LINE_AA)    \n",
    "\n",
    "\n",
    "        cv2.imshow('OpenCV Feed',image)\n",
    "\n",
    "        if cv2.waitKey(10)& 0xFF==ord('q'):\n",
    "            break;\n",
    "      cap.release()\n",
    "      cv2.destroyAllWindows()"
   ]
  },
  {
   "cell_type": "code",
   "execution_count": null,
   "id": "9dfae5cf",
   "metadata": {},
   "outputs": [],
   "source": []
  }
 ],
 "metadata": {
  "kernelspec": {
   "display_name": "Python 3 (ipykernel)",
   "language": "python",
   "name": "python3"
  },
  "language_info": {
   "codemirror_mode": {
    "name": "ipython",
    "version": 3
   },
   "file_extension": ".py",
   "mimetype": "text/x-python",
   "name": "python",
   "nbconvert_exporter": "python",
   "pygments_lexer": "ipython3",
   "version": "3.10.7"
  }
 },
 "nbformat": 4,
 "nbformat_minor": 5
}

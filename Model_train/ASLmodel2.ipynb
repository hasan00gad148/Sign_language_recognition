{
  "cells": [
    {
      "cell_type": "code",
      "execution_count": null,
      "metadata": {
        "colab": {
          "base_uri": "https://localhost:8080/"
        },
        "id": "PQWWJGAoeoyO",
        "outputId": "bd7a3a75-25a1-4aa1-8e7d-bac3f0453c18"
      },
      "outputs": [],
      "source": [
        "# !pip install patool\n",
        "!pip install mediapipe\n"
      ]
    },
    {
      "cell_type": "code",
      "execution_count": null,
      "metadata": {
        "id": "S90SBuqVd2lN"
      },
      "outputs": [],
      "source": [
        "import os\n",
        "import numpy as np\n",
        "from matplotlib import pyplot as plt\n",
        "import cv2\n",
        "import tensorflow as tf\n",
        "import tensorflow.keras.layers as tfl\n",
        "from tensorflow.keras.models import Sequential\n",
        "from tensorflow.keras.layers import LSTM, Dense, BatchNormalization, ReLU, Dropout, GRU, ConvLSTM2D, Conv3D, Flatten, Bidirectional\n",
        "from tensorflow.keras.utils import to_categorical\n",
        "import random \n",
        "from sklearn.model_selection import train_test_split\n",
        "from sklearn.utils import shuffle\n",
        "import mediapipe as mp\n",
        "# import pickle as pk\n",
        "from google.colab import drive\n",
        "from google.colab import files"
      ]
    },
    {
      "cell_type": "code",
      "execution_count": null,
      "metadata": {
        "colab": {
          "base_uri": "https://localhost:8080/"
        },
        "id": "FySGWtTcekwc",
        "outputId": "b1d5b3e3-1917-4147-96f8-09f75544c13a"
      },
      "outputs": [],
      "source": [
        "drive.mount(\"/content/drive\", force_remount=True)\n",
        "%cd drive/MyDrive/Colab Notebooks/"
      ]
    },
    {
      "cell_type": "code",
      "execution_count": null,
      "metadata": {
        "id": "N5KSV52feVCk"
      },
      "outputs": [],
      "source": [
        "# !pip install patool\n",
        "# import patoolib\n",
        "# patoolib.extract_archive(\"./traindata/all_cut.rar\", outdir=\"./traindata\")"
      ]
    },
    {
      "cell_type": "code",
      "execution_count": null,
      "metadata": {
        "id": "lnkdAmeTd2lT"
      },
      "outputs": [],
      "source": [
        "mp_holistic = mp.solutions.holistic # Holistic model\n",
        "mp_drawing = mp.solutions.drawing_utils # Drawing utilities"
      ]
    },
    {
      "cell_type": "code",
      "execution_count": null,
      "metadata": {
        "id": "Zv_JGDvxd2lU"
      },
      "outputs": [],
      "source": [
        "holistic = mp_holistic.Holistic(\n",
        "    static_image_mode=False,\n",
        "    model_complexity=1,\n",
        "    enable_segmentation=False,\n",
        "    refine_face_landmarks=False,\n",
        "    min_detection_confidence=0.5)"
      ]
    },
    {
      "cell_type": "code",
      "execution_count": null,
      "metadata": {
        "id": "p5_71eH1d2lU"
      },
      "outputs": [],
      "source": [
        "def mediapipe_detection(image, model):\n",
        "    image = cv2.cvtColor(image, cv2.COLOR_BGR2RGB) # COLOR CONVERSION BGR 2 RGB\n",
        "    image.flags.writeable = False                  # Image is no longer writeable\n",
        "    results = model.process(image)                 # Make prediction\n",
        "    image.flags.writeable = True                   # Image is now writeable \n",
        "    return  results"
      ]
    },
    {
      "cell_type": "code",
      "execution_count": null,
      "metadata": {
        "id": "aHaK61Ljd2lV"
      },
      "outputs": [],
      "source": [
        "def normalize_zscore(pose, face, lh, rh):\n",
        "       \n",
        "\n",
        "    pose = (pose - pose.mean(axis=0))/(pose.std(axis=0) + 1e-7)\n",
        "    face = (face -  face.mean(axis=0))/(face.std(axis=0) + 1e-7)\n",
        "    lh = (lh - lh.mean(axis=0))/(lh.std(axis=0) + 1e-7)\n",
        "    rh = (rh - rh.mean(axis=0))/(rh.std(axis=0) + 1e-7)\n",
        "\n",
        "    \n",
        "    return pose, face, lh, rh"
      ]
    },
    {
      "cell_type": "code",
      "execution_count": null,
      "metadata": {
        "id": "xg6MW6m0d2lW"
      },
      "outputs": [],
      "source": [
        "def extract_keypoints(results):\n",
        "\n",
        "    pose = np.array([[res.x, res.y, res.z] for res in results.pose_landmarks.landmark]) if results.pose_landmarks else np.zeros((33,3))\n",
        "    face = np.array([[res.x, res.y, res.z] for res in results.face_landmarks.landmark]) if results.face_landmarks else np.zeros((468,3))\n",
        "    lh = np.array([[res.x, res.y, res.z] for res in results.left_hand_landmarks.landmark]) if results.left_hand_landmarks else np.zeros((21,3))\n",
        "    rh = np.array([[res.x, res.y, res.z] for res in results.right_hand_landmarks.landmark]) if results.right_hand_landmarks else np.zeros((21,3))\n",
        "\n",
        "    face = face[:8,:]\n",
        "    pose, face, lh, rh = normalize_zscore(pose, face, lh, rh)\n",
        "    return np.concatenate([face.flatten(), pose.flatten(), lh.flatten(), rh.flatten()])\n",
        "      "
      ]
    },
    {
      "cell_type": "code",
      "execution_count": null,
      "metadata": {
        "id": "_ucnbCs_d2lX"
      },
      "outputs": [],
      "source": [
        "def draw_styled_landmarks(image, results):\n",
        "    # Draw face connections\n",
        "    mp_drawing.draw_landmarks(image, results.face_landmarks, mp_holistic.FACEMESH_TESSELATION, \n",
        "                             mp_drawing.DrawingSpec(color=(80,110,10), thickness=1, circle_radius=1), \n",
        "                             mp_drawing.DrawingSpec(color=(80,256,121), thickness=1, circle_radius=1)\n",
        "                             ) \n",
        "    # Draw pose connections\n",
        "    mp_drawing.draw_landmarks(image, results.pose_landmarks, mp_holistic.POSE_CONNECTIONS,\n",
        "                             mp_drawing.DrawingSpec(color=(80,22,10), thickness=2, circle_radius=4), \n",
        "                             mp_drawing.DrawingSpec(color=(80,44,121), thickness=2, circle_radius=2)\n",
        "                             ) \n",
        "    # Draw left hand connections\n",
        "    mp_drawing.draw_landmarks(image, results.left_hand_landmarks, mp_holistic.HAND_CONNECTIONS, \n",
        "                             mp_drawing.DrawingSpec(color=(121,22,76), thickness=2, circle_radius=4), \n",
        "                             mp_drawing.DrawingSpec(color=(121,44,250), thickness=2, circle_radius=2)\n",
        "                             ) \n",
        "    # Draw right hand connections  \n",
        "    mp_drawing.draw_landmarks(image, results.right_hand_landmarks, mp_holistic.HAND_CONNECTIONS, \n",
        "                             mp_drawing.DrawingSpec(color=(245,117,66), thickness=2, circle_radius=4), \n",
        "                             mp_drawing.DrawingSpec(color=(245,66,230), thickness=2, circle_radius=2)\n",
        "                             ) "
      ]
    },
    {
      "cell_type": "code",
      "execution_count": null,
      "metadata": {
        "id": "3TBcFTJLd2lZ"
      },
      "outputs": [],
      "source": [
        "def videoProc(path, o=False):\n",
        "    \"###\"\n",
        "    cap = cv2.VideoCapture(path)\n",
        "    success = True\n",
        "    \n",
        "    framecount = 25\n",
        "\n",
        "    fnum = 0\n",
        "    v = []\n",
        "    \n",
        "    fpsCounter = 0\n",
        "\n",
        "\n",
        "    while success:     \n",
        "        success, frame = cap.read()\n",
        "        \n",
        "        \n",
        "        if success:  \n",
        "            frame = cv2.resize(frame, (1920,1080), interpolation = cv2.INTER_AREA)\n",
        "            results = mediapipe_detection(frame, holistic)\n",
        "\n",
        "            eres = extract_keypoints(results)\n",
        "            tmp = np.reshape(eres, (1,-1))\n",
        "            v.append(tmp)\n",
        "\n",
        "            fnum += 1\n",
        "            if o:\n",
        "                draw_styled_landmarks(frame, results)\n",
        "                plt.imshow(cv2.cvtColor(frame, cv2.COLOR_BGR2RGB))\n",
        "                plt.show()\n",
        "\n",
        "    c = round(fnum/framecount, 0)-1\n",
        "    vtmp=[]\n",
        "    j=0\n",
        "    if c>0:\n",
        "      for i in v:\n",
        "        if fpsCounter==0:\n",
        "            fpsCounter=c\n",
        "            vtmp.append(i)\n",
        "            j+=1\n",
        "        else:\n",
        "            fpsCounter-=1           \n",
        "            continue\n",
        "      fnum = j\n",
        "      v = vtmp\n",
        "\n",
        "\n",
        "    v = np.reshape(v,(fnum,-1)) if fnum >0 else[]\n",
        "\n",
        "    if fnum>framecount:\n",
        "      v = v[0:framecount]\n",
        "    elif fnum<framecount: \n",
        "      # print(len(v))\n",
        "      tmp = np.zeros((framecount-fnum,249))\n",
        "      v = np.concatenate((v, tmp), axis=0) \n",
        "\n",
        "    \n",
        "   \n",
        "    \n",
        "  \n",
        "\n",
        "    return v"
      ]
    },
    {
      "cell_type": "code",
      "execution_count": null,
      "metadata": {
        "id": "AA6r8PfPd2lk"
      },
      "outputs": [],
      "source": [
        "def videoProc2(path, c=1, skip=0, o=False):\n",
        "    \"###\"\n",
        "    cap = cv2.VideoCapture(path)\n",
        "    success = True\n",
        "    \n",
        "    framecount = 30\n",
        "\n",
        "    fnum = 0\n",
        "    v = []\n",
        "    \n",
        "    fpsCounter = 0\n",
        "\n",
        "\n",
        "    while success:     \n",
        "        success, frame = cap.read()\n",
        "        \n",
        "        if fpsCounter==0:\n",
        "            fpsCounter=c\n",
        "        else:\n",
        "            fpsCounter-=1           \n",
        "            continue\n",
        "        if fnum == framecount:\n",
        "          break \n",
        "        \n",
        "        if success:  \n",
        "            # frame = cv2.resize(frame, (720,480), interpolation = cv2.INTER_AREA)\n",
        "            results = mediapipe_detection(frame, holistic)\n",
        "\n",
        "            eres = extract_keypoints(results)\n",
        "            tmp = np.reshape(eres, (1,-1))\n",
        "            v.append(tmp)\n",
        "\n",
        "            fnum += 1\n",
        "            if o:\n",
        "                draw_styled_landmarks(frame, results)\n",
        "                plt.imshow(cv2.cvtColor(frame, cv2.COLOR_BGR2RGB))\n",
        "                plt.show()\n",
        "\n",
        "\n",
        "    \n",
        "    v = np.reshape(v,(fnum,-1)) if fnum >0 else[]\n",
        "        \n",
        "    if fnum<framecount and fnum>0:\n",
        "        tmp = np.zeros((framecount-fnum,249))\n",
        "        v = np.concatenate((v, tmp), axis=0) \n",
        "\n",
        "\n",
        "    return v"
      ]
    },
    {
      "cell_type": "markdown",
      "metadata": {
        "id": "HqMeVlA4a0qv"
      },
      "source": [
        "***\n",
        "***\n",
        "***"
      ]
    },
    {
      "cell_type": "code",
      "execution_count": null,
      "metadata": {
        "id": "gv9tRo60d2lY"
      },
      "outputs": [],
      "source": [
        "path =\"./traindata/all\"\n",
        "file_list = os.listdir(path)\n",
        "files = file_list\n",
        "files.sort()"
      ]
    },
    {
      "cell_type": "code",
      "execution_count": null,
      "metadata": {
        "colab": {
          "base_uri": "https://localhost:8080/"
        },
        "id": "nZtcUPkMd2lY",
        "outputId": "5c98bfc2-825d-4156-e06c-16aba77e1791"
      },
      "outputs": [],
      "source": [
        "len(files)"
      ]
    },
    {
      "cell_type": "code",
      "execution_count": null,
      "metadata": {
        "colab": {
          "base_uri": "https://localhost:8080/"
        },
        "id": "w15lPLu1d2lZ",
        "outputId": "2da09b32-c79d-47e0-e86d-06c88a8a8168"
      },
      "outputs": [],
      "source": [
        "files = [path+\"/\"+f for f in files]# \n",
        "files[0],files[499]"
      ]
    },
    {
      "cell_type": "code",
      "execution_count": null,
      "metadata": {
        "colab": {
          "base_uri": "https://localhost:8080/",
          "height": 1000
        },
        "id": "6LgoMreUu142",
        "outputId": "c52eedc2-347b-44aa-b7e5-b48040454c21"
      },
      "outputs": [],
      "source": [
        "v= videoProc2(files[352],c=3,o=1)\n",
        "v.shape"
      ]
    },
    {
      "cell_type": "code",
      "execution_count": null,
      "metadata": {
        "colab": {
          "base_uri": "https://localhost:8080/"
        },
        "id": "kQfqeSdltguS",
        "outputId": "674de449-327d-47c9-d3f1-b4f104d4df52"
      },
      "outputs": [],
      "source": [
        "v[24].max(),v[20].max(),"
      ]
    },
    {
      "cell_type": "code",
      "execution_count": null,
      "metadata": {
        "colab": {
          "base_uri": "https://localhost:8080/"
        },
        "id": "Z4mWhWrRd2la",
        "outputId": "a2b221c6-59be-4907-9e0f-b49c81118707"
      },
      "outputs": [],
      "source": [
        "v[25].std(),v[25].mean()"
      ]
    },
    {
      "cell_type": "code",
      "execution_count": null,
      "metadata": {
        "id": "u8-gldS9rnnK"
      },
      "outputs": [],
      "source": [
        "sum = 0\n",
        "for i in range(0,1600,10):\n",
        "  v= videoProc2(files[i],c=3,o=0)\n",
        "  sum+=v.shape[0]\n",
        "  print(v.shape,int(i/50))\n"
      ]
    },
    {
      "cell_type": "raw",
      "metadata": {
        "id": "ZUfBS7LWd2lb"
      },
      "source": [
        "s=0\n",
        "for i in range(400,800,5):\n",
        "    v = videoProc(files[i],c=1)\n",
        "    print(i,v.shape[0])\n",
        "    s+=v.shape[0]\n",
        "s/42"
      ]
    },
    {
      "cell_type": "code",
      "execution_count": null,
      "metadata": {
        "colab": {
          "base_uri": "https://localhost:8080/"
        },
        "id": "Ug2Dt7WFbbNY",
        "outputId": "8749d75e-3443-4855-f7f0-88f16a708beb"
      },
      "outputs": [],
      "source": [
        "sum/(10*5)"
      ]
    },
    {
      "cell_type": "code",
      "execution_count": null,
      "metadata": {
        "colab": {
          "base_uri": "https://localhost:8080/"
        },
        "id": "DsEY286Wd2lc",
        "outputId": "6614cd04-3335-47a4-f6c4-cb7e71df6959"
      },
      "outputs": [],
      "source": [
        "l=0\n",
        "X_train=[]\n",
        "X_dev=[]\n",
        "y_train=[]\n",
        "y_dev=[]\n",
        "files_ = files[1600:]\n",
        "for f in files_:\n",
        "    v= videoProc2(f,c=3,o=0)\n",
        "    p = int(f.split('/')[-1].split('_')[1])\n",
        "    if p <10:\n",
        "      X_train.append(v)\n",
        "      label = int(f.split('/')[-1].split('_')[0])-1\n",
        "      y_train.append(label)\n",
        "    else:\n",
        "      X_dev.append(v)\n",
        "      label = int(f.split('/')[-1].split('_')[0])-1\n",
        "      y_dev.append(label)\n",
        "\n",
        "\n",
        "    print(p, l)\n",
        "    l+=1\n",
        "\n",
        "    "
      ]
    },
    {
      "cell_type": "code",
      "execution_count": null,
      "metadata": {
        "id": "RGTAoC0Ad2le"
      },
      "outputs": [],
      "source": [
        "X_train = np.array(X_train)\n",
        "y_train = np.array(y_train)\n",
        "X_dev = np.array(X_dev)\n",
        "y_dev = np.array(y_dev)"
      ]
    },
    {
      "cell_type": "code",
      "execution_count": null,
      "metadata": {
        "colab": {
          "base_uri": "https://localhost:8080/"
        },
        "id": "qcnBGDfAd2le",
        "outputId": "a0aecdca-47b1-4b67-a5df-2e4575bfae13"
      },
      "outputs": [],
      "source": [
        "X_train.shape,y_train.shape,X_dev.shape,y_dev.shape"
      ]
    },
    {
      "cell_type": "code",
      "execution_count": null,
      "metadata": {
        "id": "yz0ntSFOd2le"
      },
      "outputs": [],
      "source": [
        "np.save(\"./X_train_2.npy\",X_train)\n",
        "np.save(\"./y_train_2.npy\",y_train)\n",
        "np.save(\"./X_dev_2.npy\",X_dev)\n",
        "np.save(\"./y_dev_2.npy\",y_dev)"
      ]
    },
    {
      "cell_type": "code",
      "execution_count": null,
      "metadata": {
        "id": "C3NpaunGK5lc"
      },
      "outputs": [],
      "source": [
        "del files\n",
        "del file_list"
      ]
    },
    {
      "cell_type": "markdown",
      "metadata": {
        "id": "G2JySTKVa81H"
      },
      "source": [
        "***\n",
        "***\n",
        "***"
      ]
    },
    {
      "cell_type": "code",
      "execution_count": null,
      "metadata": {
        "id": "u-nBBuuunNaK"
      },
      "outputs": [],
      "source": [
        "# vids = vids[0:1600,:,:]\n",
        "# vids = np.concatenate([vids[:,:,0::3],vids[:,:,1::3],],axis=0)\n",
        "# labels = labels[0:1600]\n",
        "X_train = np.load(\"./X_train_1.npy\")\n",
        "y_train = np.load(\"./y_train_1.npy\")\n",
        "X_dev = np.load(\"./X_dev_1.npy\")\n",
        "y_dev = np.load(\"./y_dev_1.npy\")"
      ]
    },
    {
      "cell_type": "code",
      "execution_count": null,
      "metadata": {
        "id": "sQy_bXBzWvMm"
      },
      "outputs": [],
      "source": [
        "X_train2 = np.load(\"./X_train_2.npy\")\n",
        "y_train2 = np.load(\"./y_train_2.npy\")\n",
        "X_dev2 = np.load(\"./X_dev_2.npy\")\n",
        "y_dev2 = np.load(\"./y_dev_2.npy\")"
      ]
    },
    {
      "cell_type": "code",
      "execution_count": null,
      "metadata": {
        "id": "ki6VDzkZW2bz"
      },
      "outputs": [],
      "source": [
        "X_train = np.concatenate([X_train,X_train2],axis=0)\n",
        "y_train = np.concatenate([y_train,y_train2],axis=0)\n",
        "X_dev = np.concatenate([X_dev,X_dev2],axis=0)\n",
        "y_dev = np.concatenate([y_dev,y_dev2],axis=0)\n"
      ]
    },
    {
      "cell_type": "code",
      "execution_count": null,
      "metadata": {
        "id": "yxRcNtJ3Xb6b"
      },
      "outputs": [],
      "source": [
        "del X_train2\n",
        "del y_train2\n",
        "del X_dev2\n",
        "del y_dev2"
      ]
    },
    {
      "cell_type": "code",
      "execution_count": null,
      "metadata": {
        "id": "p17IBieLNZPr"
      },
      "outputs": [],
      "source": [
        "X_train, y_train = shuffle(X_train, y_train, random_state=13)\n",
        "\n",
        "X_dev, y_dev = shuffle(X_dev,  y_dev, random_state=13)"
      ]
    },
    {
      "cell_type": "code",
      "execution_count": null,
      "metadata": {
        "colab": {
          "base_uri": "https://localhost:8080/"
        },
        "id": "DETtElvYs6hI",
        "outputId": "0175ce42-a82f-49b3-c4b8-e2e10757e0d1"
      },
      "outputs": [],
      "source": [
        "X_train[1,20].mean(),X_train[1,20].std(),X_train.shape"
      ]
    },
    {
      "cell_type": "markdown",
      "metadata": {
        "id": "g1AMSJdBRQX9"
      },
      "source": []
    },
    {
      "cell_type": "code",
      "execution_count": null,
      "metadata": {
        "colab": {
          "base_uri": "https://localhost:8080/"
        },
        "id": "sfAVTKlrd2lg",
        "outputId": "badbef39-840f-4eb5-cd65-0af7cef3c9a8"
      },
      "outputs": [],
      "source": [
        "X_train[3].min(),X_train[3].max(),X_train[3].shape"
      ]
    },
    {
      "cell_type": "code",
      "execution_count": null,
      "metadata": {
        "colab": {
          "base_uri": "https://localhost:8080/"
        },
        "id": "8HNPMiUud2lg",
        "outputId": "1723eb5b-e52e-46ff-f355-164e31c7ce04"
      },
      "outputs": [],
      "source": [
        "y_train[0:10],y_train.min(),y_train.max(),y_train.shape"
      ]
    },
    {
      "cell_type": "code",
      "execution_count": null,
      "metadata": {
        "id": "b7q9lb73d2lh"
      },
      "outputs": [],
      "source": [
        "\n",
        "# Bidirectional(GRU(128, return_sequences=True, activation='tanh')),\n",
        "# BatchNormalization(axis=-1,center=True,scale=True,),\n",
        "# ReLU(), \n",
        "# LSTM\n",
        "# tf.keras.layers.SimpleRNN(256, return_sequences=True, activation=\"relu\",),\n",
        "\n",
        "\n",
        "# Dense(128, activation='relu',kernel_regularizer=tf.keras.regularizers.L1L2(0.01,0.05)),  \n",
        "# # Dense(64, activation='relu',kernel_regularizer=tf.keras.regularizers.L1L2(0.01,0.05)),  \n",
        "# BatchNormalization(axis=-1,center=True,scale=True,),\n",
        "\n",
        "model_lstm_1 = Sequential([\n",
        "tf.keras.Input(shape=(30,249),),\n",
        "\n",
        "\n",
        "GRU(96, return_sequences=False, activation=\"relu\",),\n",
        "BatchNormalization(axis=-1,center=True,scale=True,),\n",
        "Dropout(0.25),\n",
        "\n",
        "\n",
        "Dense(64, activation='softmax')\n",
        "])\n"
      ]
    },
    {
      "cell_type": "code",
      "execution_count": null,
      "metadata": {
        "colab": {
          "base_uri": "https://localhost:8080/"
        },
        "id": "tkM404Fad2lh",
        "outputId": "11be2ef3-b058-4ea5-9df9-6232d3c2f891"
      },
      "outputs": [],
      "source": [
        "model_lstm_1.summary()"
      ]
    },
    {
      "cell_type": "code",
      "execution_count": null,
      "metadata": {
        "id": "H2K4MECAd2lh"
      },
      "outputs": [],
      "source": [
        "model_lstm_1.compile(tf.keras.optimizers.Adam(learning_rate=1e-3,beta_1=0.9,beta_2=0.999,epsilon=1e-07,)\n",
        "        ,loss=tf.keras.losses.SparseCategoricalCrossentropy()\n",
        "            ,metrics=[\"accuracy\",])"
      ]
    },
    {
      "cell_type": "code",
      "execution_count": null,
      "metadata": {
        "colab": {
          "background_save": true,
          "base_uri": "https://localhost:8080/"
        },
        "id": "XrJXaEhld2li",
        "outputId": "f2a297b6-ec36-42ee-c9b1-f59ff478806c"
      },
      "outputs": [],
      "source": [
        "model_lstm_1.fit(X_train, y_train, epochs=20, batch_size=128, )#batch_size=64 ,#validation_data=(X_dev, y_dev)"
      ]
    },
    {
      "cell_type": "code",
      "execution_count": null,
      "metadata": {
        "colab": {
          "base_uri": "https://localhost:8080/"
        },
        "id": "pn7BhRLnd2lj",
        "outputId": "fc992ea5-e3ca-4612-9b1e-7c1252d2b192"
      },
      "outputs": [],
      "source": [
        "model_lstm_1.evaluate(X_train, y_train)"
      ]
    },
    {
      "cell_type": "code",
      "execution_count": null,
      "metadata": {
        "colab": {
          "base_uri": "https://localhost:8080/"
        },
        "id": "8In9OzFfd2lj",
        "outputId": "7dbcc9ac-7ca3-44a2-b93f-7f225a7b1705"
      },
      "outputs": [],
      "source": [
        "model_lstm_1.evaluate(X_dev, y_dev)"
      ]
    },
    {
      "cell_type": "code",
      "execution_count": null,
      "metadata": {
        "colab": {
          "base_uri": "https://localhost:8080/"
        },
        "id": "7XtJXHhkd2lk",
        "outputId": "1eec4ae3-5176-4ebd-cc3a-1cb323abf739"
      },
      "outputs": [],
      "source": [
        "model_lstm_1.save(\"./modelArgantine/v8_64_4\")"
      ]
    },
    {
      "cell_type": "code",
      "execution_count": null,
      "metadata": {
        "colab": {
          "base_uri": "https://localhost:8080/"
        },
        "id": "PxEiRuJBfEyg",
        "outputId": "92d05858-5207-455f-83d1-7fa4d46e4e0a"
      },
      "outputs": [],
      "source": [
        "path =\"./testdata/\"\n",
        "file_list = os.listdir(path)\n",
        "file_list.sort()\n",
        "\n",
        "files = [path+\"/\"+f for f in file_list]# \n",
        "files[0],files[1]"
      ]
    },
    {
      "cell_type": "code",
      "execution_count": null,
      "metadata": {
        "id": "poKw8zps3CXJ"
      },
      "outputs": [],
      "source": [
        "test1 = {}\n",
        "j=0\n",
        "for i in file_list:\n",
        "  v=videoProc2(files[j],c=1,o=0)\n",
        "  test1[i]=v\n",
        "  print(j)\n",
        "  j+=1"
      ]
    },
    {
      "cell_type": "code",
      "execution_count": null,
      "metadata": {
        "id": "ERjJ49yMZTR1"
      },
      "outputs": [],
      "source": [
        "test2 = {}\n",
        "j=0\n",
        "for i in file_list:\n",
        "  v=videoProc2(files[j],c=2,skip=0,o=0)\n",
        "  test2[i]=v\n",
        "  print(j)\n",
        "  j+=1"
      ]
    },
    {
      "cell_type": "code",
      "execution_count": null,
      "metadata": {
        "id": "j3OWlu9ekuSs"
      },
      "outputs": [],
      "source": [
        "# reconstructed_model = tf.keras.models.load_model(\"./modelArgantine/v8.6\")"
      ]
    },
    {
      "cell_type": "code",
      "execution_count": null,
      "metadata": {
        "id": "4dKlWokk2Aef"
      },
      "outputs": [],
      "source": [
        "# reconstructed_model.summary()"
      ]
    },
    {
      "cell_type": "code",
      "execution_count": null,
      "metadata": {
        "colab": {
          "base_uri": "https://localhost:8080/"
        },
        "id": "bqmHWWiXliU0",
        "outputId": "e9ed6c06-b5c5-4bd6-b6b9-eabb4e15740b"
      },
      "outputs": [],
      "source": [
        "for l,v in test1.items():#model_lstm_1\n",
        "  p = model_lstm_1.predict(np.reshape(v, (1,30,249)))\n",
        "  pp =np.argmax(p)\n",
        "  print(l,pp,p[:,pp])"
      ]
    },
    {
      "cell_type": "code",
      "execution_count": null,
      "metadata": {
        "colab": {
          "base_uri": "https://localhost:8080/"
        },
        "id": "ehOPc0PSOlY0",
        "outputId": "f1812bba-2e6b-4897-8d9b-a033147df820"
      },
      "outputs": [],
      "source": [
        "for l,v in test2.items():#model_lstm_1\n",
        "  p = model_lstm_1.predict(np.reshape(v, (1,30,249)))\n",
        "  pp =np.argmax(p)\n",
        "  print(l,pp,p[:,pp])"
      ]
    },
    {
      "cell_type": "code",
      "execution_count": null,
      "metadata": {
        "colab": {
          "base_uri": "https://localhost:8080/"
        },
        "id": "eAEGuxHp25o0",
        "outputId": "7e32bfa8-1532-46f7-c483-d2aa68ef4a07"
      },
      "outputs": [],
      "source": [
        "test2[\"Bright.mp4\"][25].max()"
      ]
    },
    {
      "cell_type": "code",
      "execution_count": null,
      "metadata": {
        "id": "44_E6Mdl3TeM"
      },
      "outputs": [],
      "source": []
    }
  ],
  "metadata": {
    "colab": {
      "provenance": []
    },
    "gpuClass": "standard",
    "kernelspec": {
      "display_name": "env",
      "language": "python",
      "name": "python3"
    },
    "language_info": {
      "codemirror_mode": {
        "name": "ipython",
        "version": 3
      },
      "file_extension": ".py",
      "mimetype": "text/x-python",
      "name": "python",
      "nbconvert_exporter": "python",
      "pygments_lexer": "ipython3",
      "version": "3.10.9"
    },
    "vscode": {
      "interpreter": {
        "hash": "a8e62510b8e8983f7396e073327258ed7f98a07d0a71789f266ad6c411666256"
      }
    }
  },
  "nbformat": 4,
  "nbformat_minor": 0
}
